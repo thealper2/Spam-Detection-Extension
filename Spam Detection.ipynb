{
 "cells": [
  {
   "cell_type": "markdown",
   "id": "1c4d3b2d-ba28-4218-b078-19aa72a929e4",
   "metadata": {},
   "source": [
    "# Import Libraries"
   ]
  },
  {
   "cell_type": "code",
   "execution_count": null,
   "id": "aa19dbe8-2aac-44f9-a325-fc5e853b7125",
   "metadata": {},
   "outputs": [],
   "source": [
    "import numpy as np\n",
    "import pandas as pd\n",
    "import matplotlib.pyplot as plt\n",
    "import re\n",
    "import seaborn as sns\n",
    "from collections import Counter\n",
    "from wordcloud import WordCloud\n",
    "import nltk\n",
    "import string\n",
    "import pickle\n",
    "import tensorflow as tf\n",
    "\n",
    "from nltk import word_tokenize\n",
    "from nltk.corpus import stopwords\n",
    "from nltk import WordNetLemmatizer\n",
    "from sklearn.model_selection import train_test_split\n",
    "from tensorflow.keras.layers import Dense, LSTM, Dropout, Bidirectional, Embedding\n",
    "from tensorflow.keras.preprocessing.text import Tokenizer\n",
    "from tensorflow.keras.preprocessing.sequence import pad_sequences\n",
    "from tensorflow.keras.models import Sequential\n",
    "from tensorflow.keras.callbacks import EarlyStopping\n",
    "from sklearn.metrics import accuracy_score, confusion_matrix\n",
    "from mlxtend.plotting import plot_confusion_matrix\n",
    "from sklearn.preprocessing import LabelEncoder\n",
    "from imblearn.over_sampling import SMOTE"
   ]
  },
  {
   "cell_type": "markdown",
   "id": "2d86fcdc-fa43-48c3-a080-2f545d4d6d51",
   "metadata": {},
   "source": [
    "# Load Data"
   ]
  },
  {
   "cell_type": "code",
   "execution_count": null,
   "id": "60defd17-9988-44bf-acaf-4a07965bbefd",
   "metadata": {},
   "outputs": [],
   "source": [
    "df = pd.read_csv(\"/mnt/hdd/Datasets/spam.csv\", encoding=\"latin-1\")\n",
    "df.head()"
   ]
  },
  {
   "cell_type": "code",
   "execution_count": null,
   "id": "a1be19ae-13dd-4ce7-b42b-9af38a0e5d1b",
   "metadata": {},
   "outputs": [],
   "source": [
    "df.drop([\"Unnamed: 2\", \"Unnamed: 3\", \"Unnamed: 4\"], axis=1, inplace=True)"
   ]
  },
  {
   "cell_type": "code",
   "execution_count": null,
   "id": "0b84574b-08c8-45f6-8d3e-1690231c1292",
   "metadata": {},
   "outputs": [],
   "source": [
    "df[\"v1\"].value_counts().plot(kind=\"pie\", autopct=\"%.1f%%\", startangle=90)"
   ]
  },
  {
   "cell_type": "code",
   "execution_count": null,
   "id": "e4740ccf-700f-46d4-9803-6aa9d2d163d0",
   "metadata": {},
   "outputs": [],
   "source": [
    "df[\"v1\"].value_counts().plot(kind=\"bar\", label)"
   ]
  },
  {
   "cell_type": "code",
   "execution_count": null,
   "id": "e1a31c36-f663-4f44-938c-722211639fc5",
   "metadata": {},
   "outputs": [],
   "source": [
    "def word_freq(CATEGORY, TEXTS):\n",
    "    freq_df = df[df[\"v1\"] == CATEGORY]\n",
    "\n",
    "    freq_words = freq_df[TEXTS].tolist()\n",
    "    freq_words = [i.lower() for i in freq_words]\n",
    "    freq_punc = []\n",
    "\n",
    "    for o in freq_words:\n",
    "        freq_punc += word_tokenize(o)\n",
    "\n",
    "    puncs = string.punctuation\n",
    "    puncs += \"..\"\n",
    "    puncs += \"...\"\n",
    "    \n",
    "    freq_punc = [o for o in freq_punc if o not in puncs]\n",
    "    freq_freq = Counter(freq_punc)\n",
    "\n",
    "    freq_top = freq_freq.most_common(50)\n",
    "    \n",
    "    words = [word for word, _ in freq_top[:15]]\n",
    "    counts = [counts for _, counts in freq_top[:15]]\n",
    "\n",
    "    plt.figure()\n",
    "    plt.bar(words, counts)\n",
    "    plt.title(f\"TOP 15 WORDS IN {CATEGORY}\")\n",
    "    plt.ylabel(\"Frequency\")\n",
    "    plt.xlabel(\"Words\")\n",
    "    plt.show()\n",
    "\n",
    "    return freq_top"
   ]
  },
  {
   "cell_type": "code",
   "execution_count": null,
   "id": "a86e8874-d6e3-44bc-8358-5bce0543f1c9",
   "metadata": {},
   "outputs": [],
   "source": [
    "ham_top = word_freq(\"ham\", \"v2\")"
   ]
  },
  {
   "cell_type": "code",
   "execution_count": null,
   "id": "ddc80ef2-43da-4d76-9467-1bea81f93f87",
   "metadata": {},
   "outputs": [],
   "source": [
    "spam_top = word_freq(\"spam\", \"v2\")"
   ]
  },
  {
   "cell_type": "code",
   "execution_count": null,
   "id": "fc2f3264-4ef0-4707-93ba-b8ed85b9b2bc",
   "metadata": {},
   "outputs": [],
   "source": [
    "def print_wordcloud(dict_top):\n",
    "    dict_top = dict(dict_top)\n",
    "\n",
    "    wordcloud = WordCloud(width=350, height=350, background_color=\"white\").generate_from_frequencies(dict_top)\n",
    "\n",
    "    plt.imshow(wordcloud)\n",
    "    #plt.axis(\"off\")\n",
    "    plt.tight_layout(pad=0)"
   ]
  },
  {
   "cell_type": "code",
   "execution_count": null,
   "id": "f4fbedaa-c5dd-44b6-b77c-9da9b16dd98c",
   "metadata": {},
   "outputs": [],
   "source": [
    "plt.subplot(1, 2, 1)\n",
    "print_wordcloud(ham_top)\n",
    "plt.title(\"TOP 50 Words - Ham\")\n",
    "plt.subplot(1, 2, 2)\n",
    "print_wordcloud(spam_top)\n",
    "plt.title(\"TOP 50 Words - Spam\")\n",
    "plt.show()"
   ]
  },
  {
   "cell_type": "markdown",
   "id": "a858a0fb-7bd7-4bcc-a912-74bb54cc1250",
   "metadata": {},
   "source": [
    "# Preprocess"
   ]
  },
  {
   "cell_type": "code",
   "execution_count": null,
   "id": "59d05f7a-060d-4bc8-bdca-0d71332dd101",
   "metadata": {},
   "outputs": [],
   "source": [
    "stop_words = set(stopwords.words(\"english\"))"
   ]
  },
  {
   "cell_type": "code",
   "execution_count": null,
   "id": "d1a4f01b-93a7-40f9-be7b-825a1a58f133",
   "metadata": {},
   "outputs": [],
   "source": [
    "def clean(text):\n",
    "    text = re.sub(r\"[^\\w\\s]\", \"\", text)\n",
    "    text = text.lower()\n",
    "    text = re.sub(r\"\\d+\", \"\", text)\n",
    "    text = \" \".join([word for word in text.split() if word not in stop_words])\n",
    "    lemmatizer = WordNetLemmatizer()\n",
    "    text = \" \".join([lemmatizer.lemmatize(word) for word in text.split()])\n",
    "    text = text.strip()\n",
    "    return text"
   ]
  },
  {
   "cell_type": "code",
   "execution_count": null,
   "id": "cc1c0266-e45a-4b24-928f-d59fa7b1ecd6",
   "metadata": {},
   "outputs": [],
   "source": [
    "df[\"v3\"] = df[\"v2\"].apply(clean)"
   ]
  },
  {
   "cell_type": "code",
   "execution_count": null,
   "id": "983810c6-9aa9-46d0-a286-b509bfff4858",
   "metadata": {},
   "outputs": [],
   "source": [
    "df.head()"
   ]
  },
  {
   "cell_type": "code",
   "execution_count": null,
   "id": "e0a26ccb-5839-4178-9620-4d8941479c96",
   "metadata": {},
   "outputs": [],
   "source": [
    "pre_ham_top = word_freq(\"ham\", \"v3\")"
   ]
  },
  {
   "cell_type": "code",
   "execution_count": null,
   "id": "afbd1409-3f42-4263-89b6-a24f92402feb",
   "metadata": {},
   "outputs": [],
   "source": [
    "pre_spam_top = word_freq(\"spam\", \"v3\")"
   ]
  },
  {
   "cell_type": "code",
   "execution_count": null,
   "id": "b87cc907-0332-4a84-8d1e-89252746de2c",
   "metadata": {},
   "outputs": [],
   "source": [
    "plt.subplot(1, 2, 1)\n",
    "print_wordcloud(pre_ham_top)\n",
    "plt.title(\"TOP 50 Words after preprocess - Ham\")\n",
    "plt.subplot(1, 2, 2)\n",
    "print_wordcloud(pre_spam_top)\n",
    "plt.title(\"TOP 50 Words after preprocess - Spam\")\n",
    "plt.show()"
   ]
  },
  {
   "cell_type": "code",
   "execution_count": null,
   "id": "71e4493c-43a0-44f5-8057-ed30e261d3e8",
   "metadata": {},
   "outputs": [],
   "source": [
    "def label_encoder(column):\n",
    "    le = LabelEncoder().fit(column)\n",
    "    print(column.name, le.classes_)\n",
    "    return le.transform(column)"
   ]
  },
  {
   "cell_type": "code",
   "execution_count": null,
   "id": "8735d45b-950e-4343-bbc0-5b8682fe830d",
   "metadata": {},
   "outputs": [],
   "source": [
    "df[\"v4\"] = label_encoder(df[\"v1\"])"
   ]
  },
  {
   "cell_type": "markdown",
   "id": "964ce189-7ac9-47eb-a9c1-7d8e16bb0649",
   "metadata": {},
   "source": [
    "# Model"
   ]
  },
  {
   "cell_type": "code",
   "execution_count": null,
   "id": "d217c54d-77bd-49ec-8f8c-1080fc1b1716",
   "metadata": {},
   "outputs": [],
   "source": [
    "X = df[\"v3\"]\n",
    "y = df[\"v4\"]"
   ]
  },
  {
   "cell_type": "code",
   "execution_count": null,
   "id": "0d6d869c-bcf0-4a4a-9c72-ccb6fdbe0731",
   "metadata": {},
   "outputs": [],
   "source": [
    "X_train, X_test, y_train, y_test = train_test_split(X, y, test_size=0.2, random_state=42)"
   ]
  },
  {
   "cell_type": "code",
   "execution_count": null,
   "id": "e7a240a4-f566-407f-9774-97b96c999b36",
   "metadata": {},
   "outputs": [],
   "source": [
    "maxlen = max([len(text) for text in X_train])"
   ]
  },
  {
   "cell_type": "code",
   "execution_count": null,
   "id": "fc44b73f-0c6b-40bd-9ed9-7e7c8f5d085e",
   "metadata": {},
   "outputs": [],
   "source": [
    "maxlen"
   ]
  },
  {
   "cell_type": "code",
   "execution_count": null,
   "id": "d8c6ccc8-ed16-43cb-a186-c4052fb262a7",
   "metadata": {},
   "outputs": [],
   "source": [
    "tokenizer = Tokenizer()\n",
    "tokenizer.fit_on_texts(X_train)"
   ]
  },
  {
   "cell_type": "code",
   "execution_count": null,
   "id": "d33e4cf1-5ffb-4445-afb9-3abadb24e6ca",
   "metadata": {},
   "outputs": [],
   "source": [
    "with open('tokenizer.pkl', 'wb') as tokenizer_file:\n",
    "    pickle.dump(tokenizer, tokenizer_file)"
   ]
  },
  {
   "cell_type": "code",
   "execution_count": null,
   "id": "14eb9a0b-a587-4848-b59a-a716778ed9eb",
   "metadata": {},
   "outputs": [],
   "source": [
    "X_train = tokenizer.texts_to_sequences(X_train)\n",
    "X_train = pad_sequences(X_train, maxlen=maxlen)\n",
    "\n",
    "X_test = tokenizer.texts_to_sequences(X_test)\n",
    "X_test = pad_sequences(X_test, maxlen=maxlen)"
   ]
  },
  {
   "cell_type": "code",
   "execution_count": null,
   "id": "529dda22-5a42-414c-a216-da2780a8ce4c",
   "metadata": {},
   "outputs": [],
   "source": [
    "input_dim = len(tokenizer.word_index) + 1\n",
    "input_dim"
   ]
  },
  {
   "cell_type": "code",
   "execution_count": null,
   "id": "84b5e330-b537-4abf-a19c-c3f7ac85ec73",
   "metadata": {},
   "outputs": [],
   "source": [
    "smote = SMOTE()"
   ]
  },
  {
   "cell_type": "code",
   "execution_count": null,
   "id": "1ef106c9-95ed-4df6-929e-f999bf6bc6c2",
   "metadata": {},
   "outputs": [],
   "source": [
    "X_train, y_train = smote.fit_resample(X_train, y_train)"
   ]
  },
  {
   "cell_type": "code",
   "execution_count": null,
   "id": "92368d9f-97db-4a26-983e-e70788ba7b58",
   "metadata": {},
   "outputs": [],
   "source": [
    "model = Sequential()\n",
    "model.add(Embedding(input_dim=input_dim, output_dim=100, input_length=maxlen))\n",
    "model.add(LSTM(units=64, return_sequences=True))\n",
    "model.add(LSTM(units=32, return_sequences=True))\n",
    "model.add(LSTM(units=16))\n",
    "model.add(Dense(units=1, activation=\"sigmoid\"))"
   ]
  },
  {
   "cell_type": "code",
   "execution_count": null,
   "id": "d2ba4bf8-bc5b-414b-8216-bb2a33c2d18c",
   "metadata": {},
   "outputs": [],
   "source": [
    "model.summary()"
   ]
  },
  {
   "cell_type": "code",
   "execution_count": null,
   "id": "9afc3680-aaa0-4a27-a98e-ba79085163fb",
   "metadata": {},
   "outputs": [],
   "source": [
    "model.compile(optimizer=\"adam\", loss=\"binary_crossentropy\", metrics=[\"accuracy\"])"
   ]
  },
  {
   "cell_type": "code",
   "execution_count": null,
   "id": "325af509-c47c-4ad6-8342-30905136cb37",
   "metadata": {},
   "outputs": [],
   "source": [
    "callbacks = [EarlyStopping(monitor=\"val_loss\", patience=5)]"
   ]
  },
  {
   "cell_type": "code",
   "execution_count": null,
   "id": "1b7abf63-ee06-4b12-b4bf-9839a4e50439",
   "metadata": {},
   "outputs": [],
   "source": [
    "history = model.fit(X_train, y_train, epochs=10, batch_size=32, validation_split=0.2, callbacks=callbacks)"
   ]
  },
  {
   "cell_type": "code",
   "execution_count": null,
   "id": "a1fff31b-6e00-4332-9106-c3c4ca2b3d23",
   "metadata": {},
   "outputs": [],
   "source": [
    "model.save(\"spam.h5\")"
   ]
  },
  {
   "cell_type": "code",
   "execution_count": null,
   "id": "f8abfd19-8609-40e7-a1b1-212819538737",
   "metadata": {},
   "outputs": [],
   "source": [
    "plt.figure()\n",
    "plt.plot(history.history[\"accuracy\"], label=\"train\")\n",
    "plt.plot(history.history[\"val_accuracy\"], label=\"valid\")\n",
    "plt.title(\"Model Accuracy\")\n",
    "plt.xlabel(\"Epochs\")\n",
    "plt.ylabel(\"Accuracy %\")\n",
    "plt.legend()\n",
    "plt.show()"
   ]
  },
  {
   "cell_type": "code",
   "execution_count": null,
   "id": "becd310c-6e63-4034-b79b-b279e415fb08",
   "metadata": {},
   "outputs": [],
   "source": [
    "plt.figure()\n",
    "plt.plot(history.history[\"loss\"], label=\"train\")\n",
    "plt.plot(history.history[\"val_loss\"], label=\"valid\")\n",
    "plt.title(\"Model Loss\")\n",
    "plt.xlabel(\"Epochs\")\n",
    "plt.ylabel(\"Loss %\")\n",
    "plt.legend()\n",
    "plt.show()"
   ]
  },
  {
   "cell_type": "markdown",
   "id": "55812d96-6482-42fa-973c-1bfb61fb3680",
   "metadata": {},
   "source": [
    "# Predict"
   ]
  },
  {
   "cell_type": "code",
   "execution_count": null,
   "id": "c55db6d2-1951-4f1e-acb8-9d3263ac54ee",
   "metadata": {},
   "outputs": [],
   "source": [
    "y_pred = model.predict(X_test)\n",
    "y_pred = np.round(y_pred)"
   ]
  },
  {
   "cell_type": "code",
   "execution_count": null,
   "id": "da3f541e-c49e-478c-bf7b-23da0f9b1a8c",
   "metadata": {},
   "outputs": [],
   "source": [
    "print(\"Accuracy:\", accuracy_score(y_test, y_pred))"
   ]
  },
  {
   "cell_type": "code",
   "execution_count": null,
   "id": "87c478ea-3ddb-45b2-a319-b163bd53c37f",
   "metadata": {},
   "outputs": [],
   "source": [
    "cm = confusion_matrix(y_test, y_pred)\n",
    "class_names = [\"ham\", \"spam\"]\n",
    "plot_confusion_matrix(conf_mat=cm, show_absolute=True, show_normed=True, colorbar=True, class_names=class_names)\n",
    "plt.title(\"Model Confusion Matrix\")\n",
    "plt.show()"
   ]
  },
  {
   "cell_type": "code",
   "execution_count": null,
   "id": "7dbcfe6e-abaa-4650-83b4-414c161e917f",
   "metadata": {},
   "outputs": [],
   "source": [
    "content = \"Free entry in 2 a wkly comp to win FA Cup final\"\n",
    "context_clean = clean(content)\n",
    "test = tokenizer.texts_to_sequences([context_clean])\n",
    "test = pad_sequences(test, maxlen=maxlen)\n",
    "is_spam = model.predict(test)\n",
    "is_spam = np.round(is_spam)[0][0]\n",
    "print(is_spam)"
   ]
  },
  {
   "cell_type": "code",
   "execution_count": null,
   "id": "1b5b1e2f-5589-4fe6-8fe0-8b015a86ae1c",
   "metadata": {},
   "outputs": [],
   "source": []
  }
 ],
 "metadata": {
  "kernelspec": {
   "display_name": "Python 3 (ipykernel)",
   "language": "python",
   "name": "python3"
  },
  "language_info": {
   "codemirror_mode": {
    "name": "ipython",
    "version": 3
   },
   "file_extension": ".py",
   "mimetype": "text/x-python",
   "name": "python",
   "nbconvert_exporter": "python",
   "pygments_lexer": "ipython3",
   "version": "3.10.12"
  }
 },
 "nbformat": 4,
 "nbformat_minor": 5
}
